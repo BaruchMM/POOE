{
 "cells": [
  {
   "cell_type": "code",
   "execution_count": 4,
   "metadata": {},
   "outputs": [
    {
     "name": "stdout",
     "output_type": "stream",
     "text": [
      "Hora actual: 21:7\n",
      "Buenas noches!\n",
      "_________________________________________________________________________\n",
      "Hora actual: 6:52\n",
      "Buenos días!\n",
      "_________________________________________________________________________\n",
      "Hora actual: 5:6\n",
      "Buenos días!\n",
      "_________________________________________________________________________\n",
      "Hora actual: 5:37\n",
      "Buenos días!\n",
      "_________________________________________________________________________\n",
      "Hora actual: 19:42\n",
      "Buenas noches!\n",
      "_________________________________________________________________________\n"
     ]
    }
   ],
   "source": [
    "import mensajes as msj\n",
    "import random as rn\n",
    "\n",
    "m = msj.Mensajes()\n",
    "\n",
    "def generarSaludoHorario():\n",
    "    hora = rn.randint(0,23)\n",
    "    minutos = rn.randint(0,59)\n",
    "    if (hora < 12):\n",
    "        print('Hora actual: '+str(hora)+':'+str(minutos))\n",
    "        m.saludoMatutino()\n",
    "    if (hora >= 12) and (hora<19):\n",
    "        print('Hora actual: '+str(hora)+':'+str(minutos))\n",
    "        m.saludoMedioDia\n",
    "    if (hora >= 19):\n",
    "        print('Hora actual: '+str(hora)+':'+str(minutos))\n",
    "        m.saludoNoche()\n",
    "    print('_________________________________________________________________________')\n",
    "for i in range(5):\n",
    "    generarSaludoHorario()"
   ]
  },
  {
   "cell_type": "code",
   "execution_count": null,
   "metadata": {},
   "outputs": [],
   "source": []
  },
  {
   "cell_type": "code",
   "execution_count": 6,
   "metadata": {},
   "outputs": [
    {
     "data": {
      "text/plain": [
       "[<matplotlib.lines.Line2D at 0x7f6fdcf603d0>]"
      ]
     },
     "execution_count": 6,
     "metadata": {},
     "output_type": "execute_result"
    },
    {
     "data": {
      "image/png": "[encoded data removed]",
      "text/plain": [
       "<Figure size 432x288 with 1 Axes>"
      ]
     },
     "metadata": {
      "needs_background": "light"
     },
     "output_type": "display_data"
    }
   ],
   "source": [
    "import matplotlib.pyplot as plt\n",
    "plt.plot(1,2)"
   ]
  }
 ],
 "metadata": {
  "interpreter": {
   "hash": "916dbcbb3f70747c44a77c7bcd40155683ae19c65e1c03b4aa3499c5328201f1"
  },
  "kernelspec": {
   "display_name": "Python 3.8.10 64-bit",
   "language": "python",
   "name": "python3"
  },
  "language_info": {
   "codemirror_mode": {
    "name": "ipython",
    "version": 3
   },
   "file_extension": ".py",
   "mimetype": "text/x-python",
   "name": "python",
   "nbconvert_exporter": "python",
   "pygments_lexer": "ipython3",
   "version": "3.8.10"
  },
  "orig_nbformat": 4
 },
 "nbformat": 4,
 "nbformat_minor": 2
}
