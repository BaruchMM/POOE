{
 "cells": [
  {
   "cell_type": "code",
   "execution_count": 3,
   "metadata": {},
   "outputs": [
    {
     "ename": "AttributeError",
     "evalue": "'archivos' object has no attribute 'fileNema'",
     "output_type": "error",
     "traceback": [
      "\u001b[0;31m---------------------------------------------------------------------------\u001b[0m",
      "\u001b[0;31mAttributeError\u001b[0m                            Traceback (most recent call last)",
      "\u001b[1;32m/home/baruch/Documentos/GitHub/POOE/Practica_2_parcial_2/index.ipynb Cell 1'\u001b[0m in \u001b[0;36m<cell line: 10>\u001b[0;34m()\u001b[0m\n\u001b[1;32m      <a href='vscode-notebook-cell:/home/baruch/Documentos/GitHub/POOE/Practica_2_parcial_2/index.ipynb#ch0000000?line=5'>6</a>\u001b[0m fileName \u001b[39m=\u001b[39m \u001b[39m'\u001b[39m\u001b[39mtext.txt\u001b[39m\u001b[39m'\u001b[39m\n\u001b[1;32m      <a href='vscode-notebook-cell:/home/baruch/Documentos/GitHub/POOE/Practica_2_parcial_2/index.ipynb#ch0000000?line=8'>9</a>\u001b[0m text \u001b[39m=\u001b[39m read\u001b[39m.\u001b[39marchivos(path,fileName)\n\u001b[0;32m---> <a href='vscode-notebook-cell:/home/baruch/Documentos/GitHub/POOE/Practica_2_parcial_2/index.ipynb#ch0000000?line=9'>10</a>\u001b[0m text \u001b[39m=\u001b[39m text\u001b[39m.\u001b[39;49mreadText()\n\u001b[1;32m     <a href='vscode-notebook-cell:/home/baruch/Documentos/GitHub/POOE/Practica_2_parcial_2/index.ipynb#ch0000000?line=10'>11</a>\u001b[0m \u001b[39mprint\u001b[39m(text)\n",
      "File \u001b[0;32m~/Documentos/GitHub/POOE/Practica_2_parcial_2/read_txt.py:15\u001b[0m, in \u001b[0;36marchivos.readText\u001b[0;34m(self)\u001b[0m\n\u001b[1;32m     <a href='file:///home/baruch/Documentos/GitHub/POOE/Practica_2_parcial_2/read_txt.py?line=13'>14</a>\u001b[0m \u001b[39mdef\u001b[39;00m \u001b[39mreadText\u001b[39m(\u001b[39mself\u001b[39m):\n\u001b[0;32m---> <a href='file:///home/baruch/Documentos/GitHub/POOE/Practica_2_parcial_2/read_txt.py?line=14'>15</a>\u001b[0m     text \u001b[39m=\u001b[39m \u001b[39mopen\u001b[39m(\u001b[39mself\u001b[39m\u001b[39m.\u001b[39mpath \u001b[39m+\u001b[39m \u001b[39mself\u001b[39;49m\u001b[39m.\u001b[39;49mfileNema, encoding\u001b[39m=\u001b[39m\u001b[39m\"\u001b[39m\u001b[39mutf8\u001b[39m\u001b[39m\"\u001b[39m) \n\u001b[1;32m     <a href='file:///home/baruch/Documentos/GitHub/POOE/Practica_2_parcial_2/read_txt.py?line=15'>16</a>\u001b[0m     \u001b[39mreturn\u001b[39;00m text\n",
      "\u001b[0;31mAttributeError\u001b[0m: 'archivos' object has no attribute 'fileNema'"
     ]
    }
   ],
   "source": [
    "\n",
    "import read_txt as read\n",
    "import numpy as np\n",
    "import matplotlib as plt\n",
    "\n",
    "path = '/home/baruch/Documentos/GitHub/POOE/Practica_2_parcial_2/text'\n",
    "fileName = 'text.txt'\n",
    "\n",
    "\n",
    "text = read.archivos(path,fileName)\n",
    "text = text.readText()\n",
    "print(text)\n",
    "\n"
   ]
  }
 ],
 "metadata": {
  "interpreter": {
   "hash": "31f2aee4e71d21fbe5cf8b01ff0e069b9275f58929596ceb00d14d90e3e16cd6"
  },
  "kernelspec": {
   "display_name": "Python 3.8.10 64-bit",
   "language": "python",
   "name": "python3"
  },
  "language_info": {
   "codemirror_mode": {
    "name": "ipython",
    "version": 3
   },
   "file_extension": ".py",
   "mimetype": "text/x-python",
   "name": "python",
   "nbconvert_exporter": "python",
   "pygments_lexer": "ipython3",
   "version": "3.8.10"
  },
  "orig_nbformat": 4
 },
 "nbformat": 4,
 "nbformat_minor": 2
}
